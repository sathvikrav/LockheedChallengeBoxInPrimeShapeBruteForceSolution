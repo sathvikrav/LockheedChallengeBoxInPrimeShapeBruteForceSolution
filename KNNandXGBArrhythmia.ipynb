{
  "nbformat": 4,
  "nbformat_minor": 0,
  "metadata": {
    "colab": {
      "name": "KNNArrhythmia.ipynb",
      "provenance": [],
      "collapsed_sections": [],
      "authorship_tag": "ABX9TyNZ/Gu6fGSs1B9u53i8QI1t",
      "include_colab_link": true
    },
    "kernelspec": {
      "name": "python3",
      "display_name": "Python 3"
    }
  },
  "cells": [
    {
      "cell_type": "markdown",
      "metadata": {
        "id": "view-in-github",
        "colab_type": "text"
      },
      "source": [
        "<a href=\"https://colab.research.google.com/github/sathvikrav/LockheedChallengeBoxInPrimeShapeBruteForceSolution/blob/master/KNNandXGBArrhythmia.ipynb\" target=\"_parent\"><img src=\"https://colab.research.google.com/assets/colab-badge.svg\" alt=\"Open In Colab\"/></a>"
      ]
    },
    {
      "cell_type": "code",
      "metadata": {
        "id": "I8irHlcv4fuS",
        "colab_type": "code",
        "colab": {}
      },
      "source": [
        "import numpy as np\n",
        "import pandas as pd\n",
        "from sklearn import neighbors\n",
        "from sklearn.model_selection import train_test_split\n",
        "from sklearn.neighbors import KNeighborsClassifier\n",
        "from sklearn.preprocessing import scale\n",
        "from sklearn import metrics\n",
        "from xgboost import XGBClassifier"
      ],
      "execution_count": 31,
      "outputs": []
    },
    {
      "cell_type": "code",
      "metadata": {
        "id": "t4mJUfwmB8cj",
        "colab_type": "code",
        "colab": {}
      },
      "source": [
        "heart_data = pd.read_csv(\"arrhythmia.data\")"
      ],
      "execution_count": 3,
      "outputs": []
    },
    {
      "cell_type": "code",
      "metadata": {
        "id": "NdvdECQMCIw1",
        "colab_type": "code",
        "colab": {
          "base_uri": "https://localhost:8080/",
          "height": 153
        },
        "outputId": "9121beec-eb10-4627-9cea-2501a4836460"
      },
      "source": [
        "print(heart_data.head())"
      ],
      "execution_count": 4,
      "outputs": [
        {
          "output_type": "stream",
          "text": [
            "   75  0  190  80   91  193  371  ...  0.0.39  0.0.40  0.9.3 2.9.1  23.3  49.4   8\n",
            "0  56  1  165  64   81  174  401  ...     0.0     0.0    0.2   2.1  20.4  38.8   6\n",
            "1  54  0  172  95  138  163  386  ...     0.0     0.0    0.3   3.4  12.3  49.0  10\n",
            "2  55  0  175  94  100  202  380  ...     0.0     0.0    0.4   2.6  34.6  61.6   1\n",
            "3  75  0  190  80   88  181  360  ...     0.0     0.0   -0.1   3.9  25.4  62.8   7\n",
            "4  13  0  169  51  100  167  321  ...     0.0     0.0    0.9   2.2  13.5  31.1  14\n",
            "\n",
            "[5 rows x 280 columns]\n"
          ],
          "name": "stdout"
        }
      ]
    },
    {
      "cell_type": "code",
      "metadata": {
        "id": "rQzbSIb_KPNt",
        "colab_type": "code",
        "colab": {
          "base_uri": "https://localhost:8080/",
          "height": 255
        },
        "outputId": "128466f1-07c3-4c2a-ae30-1a3af975b9b0"
      },
      "source": [
        "data = pd.DataFrame(data=heart_data)\n",
        "print(data)"
      ],
      "execution_count": 5,
      "outputs": [
        {
          "output_type": "stream",
          "text": [
            "     75  0  190  80   91  193  ...  0.0.40  0.9.3  2.9.1  23.3  49.4   8\n",
            "0    56  1  165  64   81  174  ...     0.0    0.2    2.1  20.4  38.8   6\n",
            "1    54  0  172  95  138  163  ...     0.0    0.3    3.4  12.3  49.0  10\n",
            "2    55  0  175  94  100  202  ...     0.0    0.4    2.6  34.6  61.6   1\n",
            "3    75  0  190  80   88  181  ...     0.0   -0.1    3.9  25.4  62.8   7\n",
            "4    13  0  169  51  100  167  ...     0.0    0.9    2.2  13.5  31.1  14\n",
            "..   .. ..  ...  ..  ...  ...  ...     ...    ...    ...   ...   ...  ..\n",
            "446  53  1  160  70   80  199  ...     0.0    0.7    0.6  -4.4  -0.5   1\n",
            "447  37  0  190  85  100  137  ...     0.0    0.4    2.4  38.0  62.4  10\n",
            "448  36  0  166  68  108  176  ...     0.0    1.5    1.0 -44.2 -33.2   2\n",
            "449  32  1  155  55   93  106  ...     0.0    0.5    2.4  25.0  46.6   1\n",
            "450  78  1  160  70   79  127  ...     0.0    0.5    1.6  21.3  32.8   1\n",
            "\n",
            "[451 rows x 280 columns]\n"
          ],
          "name": "stdout"
        }
      ]
    },
    {
      "cell_type": "code",
      "metadata": {
        "id": "v5VOppuUM0Zt",
        "colab_type": "code",
        "colab": {}
      },
      "source": [
        "# We are changing the column names to the Features that we are considering\n",
        "X = data[['75', '0', '190', '80', '63']]\n",
        "X.columns = ['Age', 'Sex', 'Height', 'Weight', 'Heart rate']\n",
        "d = {'Age' : [75], 'Sex' : [0], 'Height': [190], 'Weight' : [80], 'Heart rate' : [63]}\n",
        "df2 = pd.DataFrame(data=d)\n",
        "X = X.append(df2, ignore_index=True) # we want to append the data that we removed to install the new column names\n",
        "\n",
        "# Similarly, since our dataset has 16 Different Classifications for Arrhythmia, we are changing the column name to Arrhythmia Class\n",
        "y = data[[data.columns[279]]]\n",
        "y.columns = ['Arrhythmia Class']\n",
        "d = {'Arrhythmia Class' : [8]}\n",
        "df2 = pd.DataFrame(data=d)\n",
        "y = y.append(df2, ignore_index=True)"
      ],
      "execution_count": 6,
      "outputs": []
    },
    {
      "cell_type": "code",
      "metadata": {
        "id": "9FxBed_oQJPp",
        "colab_type": "code",
        "colab": {
          "base_uri": "https://localhost:8080/",
          "height": 119
        },
        "outputId": "3c94a2db-9e79-4091-f1de-2697d888dec6"
      },
      "source": [
        "# Data Preprocessing - now we will handle data values that were not entered\n",
        "\n",
        "# We shall fill any '?' values using interpolation\n",
        "\n",
        "# We shall create a new dataframe that replaces '?' with np.nan\n",
        "new_X_data = []\n",
        "\n",
        "for array in X.values:\n",
        "  temp_array = []\n",
        "  for value in array:\n",
        "    if value == '?':\n",
        "      temp_array.append(np.nan)\n",
        "    else:\n",
        "      temp_array.append(int(value))\n",
        "  new_X_data.append(temp_array)\n",
        "\n",
        "new_X_data = np.array(new_X_data)\n",
        "\n",
        "new_X = pd.DataFrame(data=new_X_data)\n",
        "new_X.columns = ['Age', 'Sex', 'Height', 'Weight', 'Heart rate']\n",
        "# Using back propagation to fill the last valid value\n",
        "new_X = new_X.fillna(method='ffill')\n",
        "print(new_X.head())\n",
        "# Now"
      ],
      "execution_count": 7,
      "outputs": [
        {
          "output_type": "stream",
          "text": [
            "    Age  Sex  Height  Weight  Heart rate\n",
            "0  56.0  1.0   165.0    64.0        53.0\n",
            "1  54.0  0.0   172.0    95.0        75.0\n",
            "2  55.0  0.0   175.0    94.0        71.0\n",
            "3  75.0  0.0   190.0    80.0        71.0\n",
            "4  13.0  0.0   169.0    51.0        84.0\n"
          ],
          "name": "stdout"
        }
      ]
    },
    {
      "cell_type": "code",
      "metadata": {
        "id": "7oXA1g7e65ym",
        "colab_type": "code",
        "colab": {
          "base_uri": "https://localhost:8080/",
          "height": 34
        },
        "outputId": "7ecf15bd-1307-4a2f-a824-e86a81b9fa82"
      },
      "source": [
        "sum = 0\n",
        "\n",
        "for array in y.values:\n",
        "  for value in array:\n",
        "    if value == '?':\n",
        "      sum += 1\n",
        "print(sum) # No we know that there are no values to fill for Arrhythmia Class column\n",
        "\n"
      ],
      "execution_count": 8,
      "outputs": [
        {
          "output_type": "stream",
          "text": [
            "0\n"
          ],
          "name": "stdout"
        }
      ]
    },
    {
      "cell_type": "code",
      "metadata": {
        "id": "TZnTFLEy7sCK",
        "colab_type": "code",
        "colab": {
          "base_uri": "https://localhost:8080/",
          "height": 51
        },
        "outputId": "7031a86a-c2a7-4db2-d964-fd0b7434bf4a"
      },
      "source": [
        "# We shall try two different models. One where the weights are uniform and one where points are weighted by the inverse of their distance\n",
        "knn = KNeighborsClassifier(n_neighbors=25)\n",
        "\n",
        "X_train, X_test, y_train, y_test = train_test_split(new_X, y, test_size=0.2, random_state=0)\n",
        "knn.fit(X_train, y_train.values.ravel())\n",
        "y_pred = knn.predict(X_test)\n",
        "print(\"Accuracy:\",metrics.accuracy_score(y_test, y_pred))\n",
        "\n",
        "xgb = XGBClassifier(n_estimators=500, random_state=0, n_jobs=4)\n",
        "# xgb.fit(X_train, y_train.values.ravel(), early_stopping_rounds=5, eval_set=[(X_test, y_test)])\n",
        "xgb.fit(X_train, y_train.values.ravel(), early_stopping_rounds=5, eval_set=[(X_test, y_test.values.ravel())], verbose=False)\n",
        "y_pred = xgb.predict(X_test)\n",
        "print(\"Accuracy:\",metrics.accuracy_score(y_test, y_pred))\n"
      ],
      "execution_count": 46,
      "outputs": [
        {
          "output_type": "stream",
          "text": [
            "Accuracy: 0.6043956043956044\n",
            "Accuracy: 0.6703296703296703\n"
          ],
          "name": "stdout"
        }
      ]
    }
  ]
}